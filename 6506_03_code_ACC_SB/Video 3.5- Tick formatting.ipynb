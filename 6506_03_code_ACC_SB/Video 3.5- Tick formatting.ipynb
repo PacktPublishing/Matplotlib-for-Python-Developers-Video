{
 "cells": [
  {
   "cell_type": "code",
   "execution_count": null,
   "metadata": {
    "collapsed": true,
    "slideshow": {
     "slide_type": "slide"
    }
   },
   "outputs": [],
   "source": [
    "# Load numpy for math/array operations\n",
    "# and matplotlib for plotting\n",
    "import numpy as np\n",
    "from matplotlib import ticker\n",
    "import matplotlib.pyplot as plt"
   ]
  },
  {
   "cell_type": "code",
   "execution_count": null,
   "metadata": {
    "collapsed": true,
    "slideshow": {
     "slide_type": "subslide"
    }
   },
   "outputs": [],
   "source": [
    "%matplotlib inline\n",
    "# Set up figure size and DPI for screen demo\n",
    "plt.rcParams['figure.figsize'] = (4,3)\n",
    "plt.rcParams['figure.dpi'] = 150"
   ]
  },
  {
   "cell_type": "markdown",
   "metadata": {},
   "source": [
    "# Modifying tick labels & formatting manually"
   ]
  },
  {
   "cell_type": "code",
   "execution_count": null,
   "metadata": {},
   "outputs": [],
   "source": [
    "#Manually set tick labels\n",
    "index = ('one', 'two', 'three', 'four')\n",
    "plt.plot()\n",
    "plt.ylim(1,4)\n",
    "plt.yticks([1,2,3,4]"
   ]
  },
  {
   "cell_type": "code",
   "execution_count": null,
   "metadata": {},
   "outputs": [],
   "source": [
    "#Rotating ticks\n",
    "index = ('one', 'two', 'three', 'four')\n",
    "plt.plot()\n",
    "plt.ylim(1,4)\n",
    "plt.yticks("
   ]
  },
  {
   "cell_type": "code",
   "execution_count": null,
   "metadata": {},
   "outputs": [],
   "source": [
    "#Tick color\n",
    "index = ('one', 'two', 'three', 'four')\n",
    "plt.plot()\n",
    "plt.ylim(1,4)\n",
    "plt.yticks("
   ]
  },
  {
   "cell_type": "markdown",
   "metadata": {},
   "source": [
    "# Using formatters"
   ]
  },
  {
   "cell_type": "code",
   "execution_count": null,
   "metadata": {},
   "outputs": [],
   "source": [
    "#NullFormatter (no labels)\n",
    "plt.plot()\n",
    "plt.gca().yaxis.set_major_formatter(ticker."
   ]
  },
  {
   "cell_type": "code",
   "execution_count": null,
   "metadata": {},
   "outputs": [],
   "source": [
    "#Log vs. Linear formatting\n",
    "plt.loglog()\n",
    "plt.ylim(1,1e7)\n",
    "plt.gca().yaxis.set_major_formatter(ticker."
   ]
  },
  {
   "cell_type": "code",
   "execution_count": null,
   "metadata": {},
   "outputs": [],
   "source": [
    "#EngFormatter w/ unit\n",
    "plt.loglog()\n",
    "plt.ylim(1,10000)\n",
    "plt.gca().yaxis.set_major_formatter(ticker."
   ]
  },
  {
   "cell_type": "code",
   "execution_count": null,
   "metadata": {},
   "outputs": [],
   "source": [
    "#EngFormatter w/ unit\n",
    "plt.loglog()\n",
    "plt.ylim(1,10000)\n",
    "plt.gca().yaxis.set_major_formatter(ticker."
   ]
  },
  {
   "cell_type": "code",
   "execution_count": null,
   "metadata": {},
   "outputs": [],
   "source": [
    "#FormatStrFormatter\n",
    "plt.plot()\n",
    "plt.gca().yaxis.set_major_formatter(ticker."
   ]
  },
  {
   "cell_type": "code",
   "execution_count": null,
   "metadata": {},
   "outputs": [],
   "source": [
    "#FuncFormatter \n",
    "func = lambda x,pos: r\"$\\sqrt{\\rm tick}$ is %3.2f\" % np.sqrt(x) \n",
    "plt.plot()\n",
    "plt.ylim(1,10)\n",
    "plt.gca().yaxis.set_major_formatter(ticker."
   ]
  },
  {
   "cell_type": "code",
   "execution_count": null,
   "metadata": {
    "collapsed": true
   },
   "outputs": [],
   "source": []
  }
 ],
 "metadata": {
  "kernelspec": {
   "display_name": "Python 3",
   "language": "python",
   "name": "python3"
  },
  "language_info": {
   "codemirror_mode": {
    "name": "ipython",
    "version": 3
   },
   "file_extension": ".py",
   "mimetype": "text/x-python",
   "name": "python",
   "nbconvert_exporter": "python",
   "pygments_lexer": "ipython3",
   "version": "3.5.2"
  }
 },
 "nbformat": 4,
 "nbformat_minor": 2
}
