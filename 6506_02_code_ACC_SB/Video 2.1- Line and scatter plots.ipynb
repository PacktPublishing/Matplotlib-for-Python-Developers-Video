{
 "cells": [
  {
   "cell_type": "markdown",
   "metadata": {},
   "source": [
    "# plot()"
   ]
  },
  {
   "cell_type": "code",
   "execution_count": null,
   "metadata": {
    "collapsed": true,
    "slideshow": {
     "slide_type": "slide"
    }
   },
   "outputs": [],
   "source": [
    "# Load numpy for math/array operations\n",
    "# and matplotlib for plotting\n",
    "import numpy as np\n",
    "import matplotlib.pyplot as plt"
   ]
  },
  {
   "cell_type": "code",
   "execution_count": null,
   "metadata": {
    "collapsed": true,
    "slideshow": {
     "slide_type": "subslide"
    }
   },
   "outputs": [],
   "source": [
    "%matplotlib inline\n",
    "# Set up figure size and DPI for screen demo\n",
    "plt.rcParams['figure.figsize'] = (4,3)\n",
    "plt.rcParams['figure.dpi'] = 150"
   ]
  },
  {
   "cell_type": "code",
   "execution_count": null,
   "metadata": {},
   "outputs": [],
   "source": [
    "# Basic line plot\n",
    "xvals = np.arange(0,10,0.1)\n",
    "plt.plot(xvals, np.sin(xvals))\n",
    "plt.xlabel(r'$x$')\n",
    "plt.ylabel(r'$\\sin(x)$')"
   ]
  },
  {
   "cell_type": "code",
   "execution_count": null,
   "metadata": {},
   "outputs": [],
   "source": [
    "#different line styles \n",
    "idx = 0\n",
    "for marker in ('-', '--', ':', '-.'):\n",
    "    plt.plot(xvals, np.sin(xvals)+idx, ''.join(('k',marker)))\n",
    "    idx += 1"
   ]
  },
  {
   "cell_type": "code",
   "execution_count": null,
   "metadata": {},
   "outputs": [],
   "source": [
    "#Markers\n",
    "plt.plot(xvals, np.sin(xvals), 'k.')\n",
    "plt.xlabel(r'$x$')\n",
    "plt.ylabel(r'$\\sin(x)$')"
   ]
  },
  {
   "cell_type": "code",
   "execution_count": null,
   "metadata": {},
   "outputs": [],
   "source": [
    "#Marker frequency (markevery)\n",
    "xvals2 = np.arange(0,10,0.01)\n",
    "plt.plot(xvals2, np.sin(xvals2), 'k.')\n",
    "plt.xlabel(r'$x$')\n",
    "plt.ylabel(r'$\\sin(x)$')"
   ]
  },
  {
   "cell_type": "code",
   "execution_count": null,
   "metadata": {},
   "outputs": [],
   "source": [
    "#Marker size \n",
    "plt.plot(xvals, np.sin(xvals), 'k.')\n",
    "plt.xlabel(r'$x$')\n",
    "plt.ylabel(r'$\\sin(x)$')"
   ]
  },
  {
   "cell_type": "code",
   "execution_count": null,
   "metadata": {},
   "outputs": [],
   "source": [
    "#different markers\n",
    "idx = 0\n",
    "for marker in ('.', ',', 'o', 'v', '^', '>', '<', '1', '2', '3', '4', 's', 'p', \n",
    "               '*', 'h', 'H', '+', 'x', 'D', 'd', '|', '_'):\n",
    "    plt.plot(idx, 0, ''.join(('r',marker)))\n",
    "    idx += 1\n",
    "plt.xlim(-0.5,idx+0.5)"
   ]
  },
  {
   "cell_type": "code",
   "execution_count": null,
   "metadata": {},
   "outputs": [],
   "source": [
    "#Latex marker\n",
    "plt.plot(xvals, np.sin(xvals), color='k', linestyle='none')\n",
    "plt.xlabel(r'$x$')\n",
    "plt.ylabel(r'$\\sin(x)$')"
   ]
  },
  {
   "cell_type": "code",
   "execution_count": null,
   "metadata": {},
   "outputs": [],
   "source": [
    "#line width\n",
    "plt.plot(xvals, np.sin(xvals))\n",
    "plt.xlabel(r'$x$')\n",
    "plt.ylabel(r'$\\sin(x)$')"
   ]
  },
  {
   "cell_type": "code",
   "execution_count": null,
   "metadata": {},
   "outputs": [],
   "source": [
    "#zorder\n",
    "plt.plot(xvals, np.sin(xvals), lw=8)\n",
    "plt.xlabel(r'$x$')\n",
    "plt.ylabel(r'$\\sin(x)$')"
   ]
  },
  {
   "cell_type": "code",
   "execution_count": null,
   "metadata": {},
   "outputs": [],
   "source": [
    "#transparency\n",
    "plt.plot(xvals, np.sin(xvals)\n",
    "plt.xlabel(r'$x$')\n",
    "plt.ylabel(r'$\\sin(x)$')"
   ]
  },
  {
   "cell_type": "code",
   "execution_count": null,
   "metadata": {},
   "outputs": [],
   "source": [
    "#array order matters!\n",
    "shuffled_xvals = np.random.permutation(xvals)\n",
    "plt.plot(shuffled_xvals, np.sin(shuffled_xvals))\n",
    "plt.xlabel(r'$x$')\n",
    "plt.ylabel(r'$\\sin(x)$')"
   ]
  },
  {
   "cell_type": "markdown",
   "metadata": {},
   "source": [
    "# scatter()"
   ]
  },
  {
   "cell_type": "code",
   "execution_count": null,
   "metadata": {},
   "outputs": [],
   "source": [
    "#basic scatter plot\n",
    "xvals = np.arange(0,10,0.1)\n",
    "plt.scatter(xvals, np.sin(xvals))\n",
    "plt.xlabel(r'$x$')\n",
    "plt.ylabel(r'$\\sin(x)$')"
   ]
  },
  {
   "cell_type": "code",
   "execution_count": null,
   "metadata": {},
   "outputs": [],
   "source": [
    "#colours\n",
    "plt.scatter(xvals, np.sin(xvals))\n",
    "plt.xlabel(r'$x$')\n",
    "plt.ylabel(r'$\\sin(x)$')"
   ]
  },
  {
   "cell_type": "code",
   "execution_count": null,
   "metadata": {},
   "outputs": [],
   "source": [
    "#colour maps\n",
    "plt.scatter(xvals, np.sin(xvals), c=np.cos(xvals))\n",
    "plt.xlabel(r'$x$')\n",
    "plt.ylabel(r'$\\sin(x)$')"
   ]
  },
  {
   "cell_type": "code",
   "execution_count": null,
   "metadata": {},
   "outputs": [],
   "source": [
    "#marker edge colors\n",
    "plt.scatter(xvals, np.sin(xvals))\n",
    "plt.xlabel(r'$x$')\n",
    "plt.ylabel(r'$\\sin(x)$')"
   ]
  },
  {
   "cell_type": "code",
   "execution_count": null,
   "metadata": {},
   "outputs": [],
   "source": [
    "#sizes\n",
    "plt.scatter(xvals, np.sin(xvals), c=np.cos(xvals))\n",
    "plt.xlabel(r'$x$')\n",
    "plt.ylabel(r'$\\sin(x)$')"
   ]
  },
  {
   "cell_type": "markdown",
   "metadata": {},
   "source": [
    "# Heads up about speed!"
   ]
  },
  {
   "cell_type": "code",
   "execution_count": 98,
   "metadata": {},
   "outputs": [
    {
     "name": "stdout",
     "output_type": "stream",
     "text": [
      "8.4 ms ± 686 µs per loop (mean ± std. dev. of 3 runs, 3 loops each)\n"
     ]
    },
    {
     "data": {
      "text/plain": [
       "<matplotlib.figure.Figure at 0x7f137979f588>"
      ]
     },
     "metadata": {},
     "output_type": "display_data"
    }
   ],
   "source": [
    "%%timeit -n3 -r3 plt.plot(np.random.uniform(size=int(1e6)), np.random.uniform(size=int(1e6)), 'k,')\n",
    "plt.clf()"
   ]
  },
  {
   "cell_type": "code",
   "execution_count": 99,
   "metadata": {},
   "outputs": [
    {
     "name": "stdout",
     "output_type": "stream",
     "text": [
      "13.2 ms ± 4.1 ms per loop (mean ± std. dev. of 3 runs, 3 loops each)\n"
     ]
    },
    {
     "data": {
      "text/plain": [
       "<matplotlib.figure.Figure at 0x7f13796d9f60>"
      ]
     },
     "metadata": {},
     "output_type": "display_data"
    }
   ],
   "source": [
    "%%timeit -n3 -r3 plt.scatter(np.random.uniform(size=int(1e6)), np.random.uniform(size=int(1e6)), c='k', marker=',')\n",
    "plt.clf()"
   ]
  },
  {
   "cell_type": "code",
   "execution_count": null,
   "metadata": {
    "collapsed": true
   },
   "outputs": [],
   "source": []
  }
 ],
 "metadata": {
  "kernelspec": {
   "display_name": "Python 3",
   "language": "python",
   "name": "python3"
  },
  "language_info": {
   "codemirror_mode": {
    "name": "ipython",
    "version": 3
   },
   "file_extension": ".py",
   "mimetype": "text/x-python",
   "name": "python",
   "nbconvert_exporter": "python",
   "pygments_lexer": "ipython3",
   "version": "3.5.2"
  }
 },
 "nbformat": 4,
 "nbformat_minor": 2
}
