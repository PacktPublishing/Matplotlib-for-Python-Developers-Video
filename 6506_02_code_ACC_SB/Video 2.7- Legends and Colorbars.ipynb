{
 "cells": [
  {
   "cell_type": "code",
   "execution_count": null,
   "metadata": {
    "collapsed": true,
    "slideshow": {
     "slide_type": "slide"
    }
   },
   "outputs": [],
   "source": [
    "# Load numpy for math/array operations\n",
    "# and matplotlib for plotting\n",
    "import numpy as np\n",
    "import matplotlib.pyplot as plt"
   ]
  },
  {
   "cell_type": "code",
   "execution_count": null,
   "metadata": {
    "collapsed": true,
    "slideshow": {
     "slide_type": "subslide"
    }
   },
   "outputs": [],
   "source": [
    "%matplotlib inline\n",
    "# Set up figure size and DPI for screen demo\n",
    "plt.rcParams['figure.figsize'] = (4,3)\n",
    "plt.rcParams['figure.dpi'] = 150"
   ]
  },
  {
   "cell_type": "markdown",
   "metadata": {},
   "source": [
    "# Legends"
   ]
  },
  {
   "cell_type": "code",
   "execution_count": null,
   "metadata": {},
   "outputs": [],
   "source": [
    "nums = np.arange(0,10,0.1)\n",
    "plt.plot(nums, np.sin(nums), label='sin')\n",
    "plt.plot(nums, np.cos(nums), label='cos')\n",
    "plt.plot(nums, np.tan(nums), label='tan')\n",
    "plt.ylim(-2,2)"
   ]
  },
  {
   "cell_type": "code",
   "execution_count": null,
   "metadata": {
    "collapsed": true
   },
   "outputs": [],
   "source": [
    "#Location\n",
    "plt.plot(nums, np.sin(nums), label='sin')\n",
    "plt.plot(nums, np.cos(nums), label='cos')\n",
    "plt.plot(nums, np.tan(nums), label='tan')\n",
    "plt.legend(\n",
    "plt.ylim(-2,2)"
   ]
  },
  {
   "cell_type": "code",
   "execution_count": null,
   "metadata": {},
   "outputs": [],
   "source": [
    "#Number of Columns\n",
    "plt.plot(nums, np.sin(nums), label='sin')\n",
    "plt.plot(nums, np.cos(nums), label='cos')\n",
    "plt.plot(nums, np.tan(nums), label='tan')\n",
    "plt.plot(nums, np.sinh(nums), label='sinh')\n",
    "plt.plot(nums, np.cosh(nums), label='cosh')\n",
    "plt.plot(nums, np.tanh(nums), label='tanh')\n",
    "plt.legend(\n",
    "plt.gcf().set_size_inches(6,2)\n",
    "plt.ylim(-2,2)"
   ]
  },
  {
   "cell_type": "code",
   "execution_count": null,
   "metadata": {
    "collapsed": true
   },
   "outputs": [],
   "source": [
    "#Title\n",
    "plt.plot(nums, np.sin(nums), label='sin')\n",
    "plt.plot(nums, np.cos(nums), label='cos')\n",
    "plt.plot(nums, np.tan(nums), label='tan')\n",
    "plt.legend(\n",
    "plt.ylim(-2,2)"
   ]
  },
  {
   "cell_type": "code",
   "execution_count": null,
   "metadata": {},
   "outputs": [],
   "source": [
    "#Appearance (frame, fancybox, shadow, font size)\n",
    "plt.plot(nums, np.sin(nums), label='sin')\n",
    "plt.plot(nums, np.cos(nums), label='cos')\n",
    "plt.plot(nums, np.tan(nums), label='tan')\n",
    "plt.legend(\n",
    "plt.ylim(-2,2)"
   ]
  },
  {
   "cell_type": "markdown",
   "metadata": {},
   "source": [
    "# Colorbars"
   ]
  },
  {
   "cell_type": "code",
   "execution_count": null,
   "metadata": {
    "collapsed": true
   },
   "outputs": [],
   "source": [
    "#Generate a smoothed, gaussian random field\n",
    "from scipy.ndimage.filters import gaussian_filter\n",
    "rands2d = gaussian_filter(np.random.normal(size=(512,512)), sigma=10)"
   ]
  },
  {
   "cell_type": "code",
   "execution_count": null,
   "metadata": {},
   "outputs": [],
   "source": [
    "plt.imshow(rands2d)\n",
    "plt.colorbar()"
   ]
  },
  {
   "cell_type": "code",
   "execution_count": null,
   "metadata": {},
   "outputs": [],
   "source": [
    "# Orientation\n",
    "plt.imshow(rands2d)\n",
    "plt.colorbar("
   ]
  },
  {
   "cell_type": "code",
   "execution_count": null,
   "metadata": {},
   "outputs": [],
   "source": [
    "# Label\n",
    "plt.imshow(rands2d)\n",
    "plt.colorbar()"
   ]
  },
  {
   "cell_type": "code",
   "execution_count": null,
   "metadata": {
    "collapsed": true
   },
   "outputs": [],
   "source": []
  }
 ],
 "metadata": {
  "kernelspec": {
   "display_name": "Python 3",
   "language": "python",
   "name": "python3"
  },
  "language_info": {
   "codemirror_mode": {
    "name": "ipython",
    "version": 3
   },
   "file_extension": ".py",
   "mimetype": "text/x-python",
   "name": "python",
   "nbconvert_exporter": "python",
   "pygments_lexer": "ipython3",
   "version": "3.5.2"
  }
 },
 "nbformat": 4,
 "nbformat_minor": 2
}
